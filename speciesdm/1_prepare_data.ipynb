{
 "cells": [
  {
   "cell_type": "code",
   "execution_count": null,
   "metadata": {},
   "outputs": [],
   "source": [
    "from biogeodataframe import BioGeoDataFrame\n",
    "import os\n",
    "import geopandas as gpd\n",
    "from geocube.api.core import make_geocube\n",
    "from rioxarray.merge import merge_arrays"
   ]
  },
  {
   "cell_type": "code",
   "execution_count": null,
   "metadata": {},
   "outputs": [],
   "source": [
    "# Set the CRS to BC Albers\n",
    "CRS = 'EPSG:3005'\n",
    "BUFFER_DISTANCE = 5000 # in units of CRS"
   ]
  },
  {
   "cell_type": "code",
   "execution_count": null,
   "metadata": {},
   "outputs": [],
   "source": [
    "# Read in species occurrence data as a geodataframe and remove non-georeferenced rows\n",
    "species_tmp = gpd.read_file('../data/black_bear_occurrences.csv')\n",
    "species_tmp = species_tmp[(species_tmp['decimalLatitude'] != '') & (species_tmp['decimalLongitude'] != '')]"
   ]
  },
  {
   "cell_type": "code",
   "execution_count": null,
   "metadata": {},
   "outputs": [],
   "source": [
    "# Convert the geopandas to a BioGeoDataFrame, giving access to useful methods\n",
    "species = BioGeoDataFrame(species_tmp).sample(500)\n",
    "species = species.set_geometry(gpd.points_from_xy(\n",
    "        species['decimalLongitude'], species['decimalLatitude'])).set_crs(4326)\n",
    "species = species.to_crs(CRS)"
   ]
  },
  {
   "cell_type": "code",
   "execution_count": null,
   "metadata": {},
   "outputs": [],
   "source": [
    "# Load in biogeoclimatic zones and reproject\n",
    "bec_tmp = gpd.read_file('../data/bec').to_crs(CRS)\n",
    "bec_tmp = bec_tmp[['ZONE', 'AREA_SQM', 'geometry']]"
   ]
  },
  {
   "cell_type": "code",
   "execution_count": null,
   "metadata": {},
   "outputs": [],
   "source": [
    "# Categorical variables must be made numeric to be transformed into a raster, so must convert numbers back to strings\n",
    "# To do this, create list of all strings\n",
    "bec_zones = bec_tmp.ZONE.drop_duplicates().values.tolist()\n",
    "categorical_enums = {'ZONE': bec_zones}"
   ]
  },
  {
   "cell_type": "code",
   "execution_count": null,
   "metadata": {},
   "outputs": [],
   "source": [
    "# Convert bec geodataframe to rioxarray raster\n",
    "# Resolution is in the units of target CRS\n",
    "bec = make_geocube(vector_data = bec_tmp, resolution=(1000, -1000), categorical_enums=categorical_enums)"
   ]
  },
  {
   "cell_type": "code",
   "execution_count": null,
   "metadata": {},
   "outputs": [],
   "source": [
    "# Convert numeric back to categorical string\n",
    "zone_string = bec['ZONE_categories'][bec['ZONE'].astype(int)].drop('ZONE_categories')\n",
    "bec['ZONE'] = zone_string"
   ]
  },
  {
   "cell_type": "code",
   "execution_count": null,
   "metadata": {},
   "outputs": [],
   "source": [
    "# Given a list of raster tiles, find which ones intersect the species occurrence points and are therefore required\n",
    "# Using a single raster, bec, for simplicity\n",
    "rasters = species.which_rasters(BUFFER_DISTANCE, [bec])"
   ]
  },
  {
   "cell_type": "code",
   "execution_count": null,
   "metadata": {},
   "outputs": [],
   "source": [
    "# Load the list of raster tiles into memory\n",
    "# Would load the rasters here, but bec is already loaded for simplicity. Something like:\n",
    "# rasters = [rioxarray.open_rasterio(x) for x in raster]\n",
    "# merged_raster = merge_arrays(rasters)\n",
    "merged_raster = bec"
   ]
  },
  {
   "cell_type": "code",
   "execution_count": null,
   "metadata": {},
   "outputs": [],
   "source": [
    "# # Buffer each point so it intersects adjacent raster cells\n",
    "species['buffered_geometry'] = species['geometry'].buffer(BUFFER_DISTANCE, cap_style=3)"
   ]
  },
  {
   "cell_type": "code",
   "execution_count": null,
   "metadata": {},
   "outputs": [],
   "source": [
    "# For each occurrence point, build a 3D tensor \n",
    "vals = species.extract_values(merged_raster)"
   ]
  }
 ],
 "metadata": {
  "kernelspec": {
   "display_name": "torchenv",
   "language": "python",
   "name": "python3"
  },
  "language_info": {
   "name": "python",
   "version": "3.9.15"
  }
 },
 "nbformat": 4,
 "nbformat_minor": 2
}
